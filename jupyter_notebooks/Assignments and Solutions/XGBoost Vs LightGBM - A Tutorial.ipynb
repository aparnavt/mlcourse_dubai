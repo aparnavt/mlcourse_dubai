{
 "cells": [
  {
   "cell_type": "markdown",
   "metadata": {},
   "source": [
    "<h1 align=\"center\"> XGBoost Vs LightGBM - A Tutorial</h1> "
   ]
  },
  {
   "cell_type": "code",
   "execution_count": 1,
   "metadata": {},
   "outputs": [],
   "source": [
    "import numpy as np # linear algebra\n",
    "import pandas as pd # data processing, CSV file I/O (e.g. pd.read_csv)\n",
    "\n",
    "from sklearn import model_selection\n",
    "from sklearn.model_selection import train_test_split\n",
    "from sklearn.preprocessing import RobustScaler\n",
    "from sklearn.metrics import accuracy_score\n",
    "from sklearn.model_selection import GridSearchCV\n",
    "\n",
    "from sklearn.utils import resample\n",
    "\n",
    "\n",
    "# matplotlib\n",
    "import matplotlib.pyplot as plt\n",
    "from matplotlib.ticker import FuncFormatter\n",
    "# enable static images of your plot embedded in the notebook\n",
    "%matplotlib inline \n",
    "\n",
    "# seaborn\n",
    "import seaborn as sns\n",
    "sns.set() #apply the default default seaborn theme, scaling, and color palette\n",
    "\n",
    "import lightgbm as lgb\n",
    "import xgboost as xgb\n",
    "\n",
    "\n",
    "import catboost\n",
    "from catboost import *\n",
    "from catboost import datasets\n",
    "from catboost import Pool"
   ]
  },
  {
   "cell_type": "markdown",
   "metadata": {},
   "source": [
    "**Data Preparation**"
   ]
  },
  {
   "cell_type": "code",
   "execution_count": 2,
   "metadata": {
    "_cell_guid": "79c7e3d0-c299-4dcb-8224-4455121ee9b0",
    "_uuid": "d629ff2d2480ee46fbb7e2d37f6b5fab8052498a"
   },
   "outputs": [],
   "source": [
    "(df_train, df_test) = catboost.datasets.amazon()"
   ]
  },
  {
   "cell_type": "code",
   "execution_count": 3,
   "metadata": {},
   "outputs": [
    {
     "data": {
      "text/html": [
       "<div>\n",
       "<style scoped>\n",
       "    .dataframe tbody tr th:only-of-type {\n",
       "        vertical-align: middle;\n",
       "    }\n",
       "\n",
       "    .dataframe tbody tr th {\n",
       "        vertical-align: top;\n",
       "    }\n",
       "\n",
       "    .dataframe thead th {\n",
       "        text-align: right;\n",
       "    }\n",
       "</style>\n",
       "<table border=\"1\" class=\"dataframe\">\n",
       "  <thead>\n",
       "    <tr style=\"text-align: right;\">\n",
       "      <th></th>\n",
       "      <th>ACTION</th>\n",
       "      <th>RESOURCE</th>\n",
       "      <th>MGR_ID</th>\n",
       "      <th>ROLE_ROLLUP_1</th>\n",
       "      <th>ROLE_ROLLUP_2</th>\n",
       "      <th>ROLE_DEPTNAME</th>\n",
       "      <th>ROLE_TITLE</th>\n",
       "      <th>ROLE_FAMILY_DESC</th>\n",
       "      <th>ROLE_FAMILY</th>\n",
       "      <th>ROLE_CODE</th>\n",
       "    </tr>\n",
       "  </thead>\n",
       "  <tbody>\n",
       "    <tr>\n",
       "      <th>0</th>\n",
       "      <td>1</td>\n",
       "      <td>39353</td>\n",
       "      <td>85475</td>\n",
       "      <td>117961</td>\n",
       "      <td>118300</td>\n",
       "      <td>123472</td>\n",
       "      <td>117905</td>\n",
       "      <td>117906</td>\n",
       "      <td>290919</td>\n",
       "      <td>117908</td>\n",
       "    </tr>\n",
       "    <tr>\n",
       "      <th>1</th>\n",
       "      <td>1</td>\n",
       "      <td>17183</td>\n",
       "      <td>1540</td>\n",
       "      <td>117961</td>\n",
       "      <td>118343</td>\n",
       "      <td>123125</td>\n",
       "      <td>118536</td>\n",
       "      <td>118536</td>\n",
       "      <td>308574</td>\n",
       "      <td>118539</td>\n",
       "    </tr>\n",
       "    <tr>\n",
       "      <th>2</th>\n",
       "      <td>1</td>\n",
       "      <td>36724</td>\n",
       "      <td>14457</td>\n",
       "      <td>118219</td>\n",
       "      <td>118220</td>\n",
       "      <td>117884</td>\n",
       "      <td>117879</td>\n",
       "      <td>267952</td>\n",
       "      <td>19721</td>\n",
       "      <td>117880</td>\n",
       "    </tr>\n",
       "    <tr>\n",
       "      <th>3</th>\n",
       "      <td>1</td>\n",
       "      <td>36135</td>\n",
       "      <td>5396</td>\n",
       "      <td>117961</td>\n",
       "      <td>118343</td>\n",
       "      <td>119993</td>\n",
       "      <td>118321</td>\n",
       "      <td>240983</td>\n",
       "      <td>290919</td>\n",
       "      <td>118322</td>\n",
       "    </tr>\n",
       "    <tr>\n",
       "      <th>4</th>\n",
       "      <td>1</td>\n",
       "      <td>42680</td>\n",
       "      <td>5905</td>\n",
       "      <td>117929</td>\n",
       "      <td>117930</td>\n",
       "      <td>119569</td>\n",
       "      <td>119323</td>\n",
       "      <td>123932</td>\n",
       "      <td>19793</td>\n",
       "      <td>119325</td>\n",
       "    </tr>\n",
       "  </tbody>\n",
       "</table>\n",
       "</div>"
      ],
      "text/plain": [
       "   ACTION  RESOURCE  MGR_ID  ROLE_ROLLUP_1  ROLE_ROLLUP_2  ROLE_DEPTNAME  \\\n",
       "0       1     39353   85475         117961         118300         123472   \n",
       "1       1     17183    1540         117961         118343         123125   \n",
       "2       1     36724   14457         118219         118220         117884   \n",
       "3       1     36135    5396         117961         118343         119993   \n",
       "4       1     42680    5905         117929         117930         119569   \n",
       "\n",
       "   ROLE_TITLE  ROLE_FAMILY_DESC  ROLE_FAMILY  ROLE_CODE  \n",
       "0      117905            117906       290919     117908  \n",
       "1      118536            118536       308574     118539  \n",
       "2      117879            267952        19721     117880  \n",
       "3      118321            240983       290919     118322  \n",
       "4      119323            123932        19793     119325  "
      ]
     },
     "execution_count": 3,
     "metadata": {},
     "output_type": "execute_result"
    }
   ],
   "source": [
    "df_train.head()"
   ]
  },
  {
   "cell_type": "code",
   "execution_count": 4,
   "metadata": {},
   "outputs": [],
   "source": [
    "df_train.rename(columns={\"ACTION\": \"TARGET\"}, inplace= True)\n",
    "df_test.rename(columns={\"ACTION\": \"TARGET\"},  inplace= True)"
   ]
  },
  {
   "cell_type": "code",
   "execution_count": 5,
   "metadata": {},
   "outputs": [
    {
     "data": {
      "text/plain": [
       "1    30872\n",
       "0     1897\n",
       "Name: TARGET, dtype: int64"
      ]
     },
     "execution_count": 5,
     "metadata": {},
     "output_type": "execute_result"
    }
   ],
   "source": [
    "df_train['TARGET'].value_counts()"
   ]
  },
  {
   "cell_type": "code",
   "execution_count": 6,
   "metadata": {},
   "outputs": [],
   "source": [
    "numerical_features = list(df_train.select_dtypes([np.number]).columns)\n",
    "categorical_features = list(set(df_train.columns).difference(set(numerical_features)))"
   ]
  },
  {
   "cell_type": "code",
   "execution_count": 7,
   "metadata": {},
   "outputs": [
    {
     "data": {
      "text/plain": [
       "[]"
      ]
     },
     "execution_count": 7,
     "metadata": {},
     "output_type": "execute_result"
    }
   ],
   "source": [
    "categorical_features\n"
   ]
  },
  {
   "cell_type": "code",
   "execution_count": 8,
   "metadata": {},
   "outputs": [
    {
     "data": {
      "text/plain": [
       "(32769, 10)"
      ]
     },
     "execution_count": 8,
     "metadata": {},
     "output_type": "execute_result"
    }
   ],
   "source": [
    "df_train.shape"
   ]
  },
  {
   "cell_type": "code",
   "execution_count": 9,
   "metadata": {},
   "outputs": [
    {
     "data": {
      "text/html": [
       "<div>\n",
       "<style scoped>\n",
       "    .dataframe tbody tr th:only-of-type {\n",
       "        vertical-align: middle;\n",
       "    }\n",
       "\n",
       "    .dataframe tbody tr th {\n",
       "        vertical-align: top;\n",
       "    }\n",
       "\n",
       "    .dataframe thead th {\n",
       "        text-align: right;\n",
       "    }\n",
       "</style>\n",
       "<table border=\"1\" class=\"dataframe\">\n",
       "  <thead>\n",
       "    <tr style=\"text-align: right;\">\n",
       "      <th></th>\n",
       "      <th>TARGET</th>\n",
       "      <th>RESOURCE</th>\n",
       "      <th>MGR_ID</th>\n",
       "      <th>ROLE_ROLLUP_1</th>\n",
       "      <th>ROLE_ROLLUP_2</th>\n",
       "      <th>ROLE_DEPTNAME</th>\n",
       "      <th>ROLE_TITLE</th>\n",
       "      <th>ROLE_FAMILY_DESC</th>\n",
       "      <th>ROLE_FAMILY</th>\n",
       "      <th>ROLE_CODE</th>\n",
       "    </tr>\n",
       "  </thead>\n",
       "  <tbody>\n",
       "    <tr>\n",
       "      <th>count</th>\n",
       "      <td>32769.000000</td>\n",
       "      <td>32769.000000</td>\n",
       "      <td>32769.000000</td>\n",
       "      <td>32769.000000</td>\n",
       "      <td>32769.000000</td>\n",
       "      <td>32769.000000</td>\n",
       "      <td>32769.000000</td>\n",
       "      <td>32769.000000</td>\n",
       "      <td>32769.000000</td>\n",
       "      <td>32769.000000</td>\n",
       "    </tr>\n",
       "    <tr>\n",
       "      <th>mean</th>\n",
       "      <td>0.942110</td>\n",
       "      <td>42923.916171</td>\n",
       "      <td>25988.957979</td>\n",
       "      <td>116952.627788</td>\n",
       "      <td>118301.823156</td>\n",
       "      <td>118912.779914</td>\n",
       "      <td>125916.152644</td>\n",
       "      <td>170178.369648</td>\n",
       "      <td>183703.408893</td>\n",
       "      <td>119789.430132</td>\n",
       "    </tr>\n",
       "    <tr>\n",
       "      <th>std</th>\n",
       "      <td>0.233539</td>\n",
       "      <td>34173.892702</td>\n",
       "      <td>35928.031650</td>\n",
       "      <td>10875.563591</td>\n",
       "      <td>4551.588572</td>\n",
       "      <td>18961.322917</td>\n",
       "      <td>31036.465825</td>\n",
       "      <td>69509.462130</td>\n",
       "      <td>100488.407413</td>\n",
       "      <td>5784.275516</td>\n",
       "    </tr>\n",
       "    <tr>\n",
       "      <th>min</th>\n",
       "      <td>0.000000</td>\n",
       "      <td>0.000000</td>\n",
       "      <td>25.000000</td>\n",
       "      <td>4292.000000</td>\n",
       "      <td>23779.000000</td>\n",
       "      <td>4674.000000</td>\n",
       "      <td>117879.000000</td>\n",
       "      <td>4673.000000</td>\n",
       "      <td>3130.000000</td>\n",
       "      <td>117880.000000</td>\n",
       "    </tr>\n",
       "    <tr>\n",
       "      <th>25%</th>\n",
       "      <td>1.000000</td>\n",
       "      <td>20299.000000</td>\n",
       "      <td>4566.000000</td>\n",
       "      <td>117961.000000</td>\n",
       "      <td>118102.000000</td>\n",
       "      <td>118395.000000</td>\n",
       "      <td>118274.000000</td>\n",
       "      <td>117906.000000</td>\n",
       "      <td>118363.000000</td>\n",
       "      <td>118232.000000</td>\n",
       "    </tr>\n",
       "    <tr>\n",
       "      <th>50%</th>\n",
       "      <td>1.000000</td>\n",
       "      <td>35376.000000</td>\n",
       "      <td>13545.000000</td>\n",
       "      <td>117961.000000</td>\n",
       "      <td>118300.000000</td>\n",
       "      <td>118921.000000</td>\n",
       "      <td>118568.000000</td>\n",
       "      <td>128696.000000</td>\n",
       "      <td>119006.000000</td>\n",
       "      <td>118570.000000</td>\n",
       "    </tr>\n",
       "    <tr>\n",
       "      <th>75%</th>\n",
       "      <td>1.000000</td>\n",
       "      <td>74189.000000</td>\n",
       "      <td>42034.000000</td>\n",
       "      <td>117961.000000</td>\n",
       "      <td>118386.000000</td>\n",
       "      <td>120535.000000</td>\n",
       "      <td>120006.000000</td>\n",
       "      <td>235280.000000</td>\n",
       "      <td>290919.000000</td>\n",
       "      <td>119348.000000</td>\n",
       "    </tr>\n",
       "    <tr>\n",
       "      <th>max</th>\n",
       "      <td>1.000000</td>\n",
       "      <td>312153.000000</td>\n",
       "      <td>311696.000000</td>\n",
       "      <td>311178.000000</td>\n",
       "      <td>286791.000000</td>\n",
       "      <td>286792.000000</td>\n",
       "      <td>311867.000000</td>\n",
       "      <td>311867.000000</td>\n",
       "      <td>308574.000000</td>\n",
       "      <td>270691.000000</td>\n",
       "    </tr>\n",
       "  </tbody>\n",
       "</table>\n",
       "</div>"
      ],
      "text/plain": [
       "             TARGET       RESOURCE         MGR_ID  ROLE_ROLLUP_1  \\\n",
       "count  32769.000000   32769.000000   32769.000000   32769.000000   \n",
       "mean       0.942110   42923.916171   25988.957979  116952.627788   \n",
       "std        0.233539   34173.892702   35928.031650   10875.563591   \n",
       "min        0.000000       0.000000      25.000000    4292.000000   \n",
       "25%        1.000000   20299.000000    4566.000000  117961.000000   \n",
       "50%        1.000000   35376.000000   13545.000000  117961.000000   \n",
       "75%        1.000000   74189.000000   42034.000000  117961.000000   \n",
       "max        1.000000  312153.000000  311696.000000  311178.000000   \n",
       "\n",
       "       ROLE_ROLLUP_2  ROLE_DEPTNAME     ROLE_TITLE  ROLE_FAMILY_DESC  \\\n",
       "count   32769.000000   32769.000000   32769.000000      32769.000000   \n",
       "mean   118301.823156  118912.779914  125916.152644     170178.369648   \n",
       "std      4551.588572   18961.322917   31036.465825      69509.462130   \n",
       "min     23779.000000    4674.000000  117879.000000       4673.000000   \n",
       "25%    118102.000000  118395.000000  118274.000000     117906.000000   \n",
       "50%    118300.000000  118921.000000  118568.000000     128696.000000   \n",
       "75%    118386.000000  120535.000000  120006.000000     235280.000000   \n",
       "max    286791.000000  286792.000000  311867.000000     311867.000000   \n",
       "\n",
       "         ROLE_FAMILY      ROLE_CODE  \n",
       "count   32769.000000   32769.000000  \n",
       "mean   183703.408893  119789.430132  \n",
       "std    100488.407413    5784.275516  \n",
       "min      3130.000000  117880.000000  \n",
       "25%    118363.000000  118232.000000  \n",
       "50%    119006.000000  118570.000000  \n",
       "75%    290919.000000  119348.000000  \n",
       "max    308574.000000  270691.000000  "
      ]
     },
     "execution_count": 9,
     "metadata": {},
     "output_type": "execute_result"
    }
   ],
   "source": [
    "df_train.describe()"
   ]
  },
  {
   "cell_type": "code",
   "execution_count": 10,
   "metadata": {},
   "outputs": [
    {
     "name": "stdout",
     "output_type": "stream",
     "text": [
      "<class 'pandas.core.frame.DataFrame'>\n",
      "RangeIndex: 32769 entries, 0 to 32768\n",
      "Data columns (total 10 columns):\n",
      "TARGET              32769 non-null int64\n",
      "RESOURCE            32769 non-null int64\n",
      "MGR_ID              32769 non-null int64\n",
      "ROLE_ROLLUP_1       32769 non-null int64\n",
      "ROLE_ROLLUP_2       32769 non-null int64\n",
      "ROLE_DEPTNAME       32769 non-null int64\n",
      "ROLE_TITLE          32769 non-null int64\n",
      "ROLE_FAMILY_DESC    32769 non-null int64\n",
      "ROLE_FAMILY         32769 non-null int64\n",
      "ROLE_CODE           32769 non-null int64\n",
      "dtypes: int64(10)\n",
      "memory usage: 2.5 MB\n"
     ]
    }
   ],
   "source": [
    "df_train.info()"
   ]
  },
  {
   "cell_type": "code",
   "execution_count": 11,
   "metadata": {},
   "outputs": [
    {
     "data": {
      "text/plain": [
       "(58921, 10)"
      ]
     },
     "execution_count": 11,
     "metadata": {},
     "output_type": "execute_result"
    }
   ],
   "source": [
    "df_test.shape"
   ]
  },
  {
   "cell_type": "code",
   "execution_count": 12,
   "metadata": {},
   "outputs": [
    {
     "data": {
      "text/html": [
       "<div>\n",
       "<style scoped>\n",
       "    .dataframe tbody tr th:only-of-type {\n",
       "        vertical-align: middle;\n",
       "    }\n",
       "\n",
       "    .dataframe tbody tr th {\n",
       "        vertical-align: top;\n",
       "    }\n",
       "\n",
       "    .dataframe thead th {\n",
       "        text-align: right;\n",
       "    }\n",
       "</style>\n",
       "<table border=\"1\" class=\"dataframe\">\n",
       "  <thead>\n",
       "    <tr style=\"text-align: right;\">\n",
       "      <th></th>\n",
       "      <th>id</th>\n",
       "      <th>RESOURCE</th>\n",
       "      <th>MGR_ID</th>\n",
       "      <th>ROLE_ROLLUP_1</th>\n",
       "      <th>ROLE_ROLLUP_2</th>\n",
       "      <th>ROLE_DEPTNAME</th>\n",
       "      <th>ROLE_TITLE</th>\n",
       "      <th>ROLE_FAMILY_DESC</th>\n",
       "      <th>ROLE_FAMILY</th>\n",
       "      <th>ROLE_CODE</th>\n",
       "    </tr>\n",
       "  </thead>\n",
       "  <tbody>\n",
       "    <tr>\n",
       "      <th>count</th>\n",
       "      <td>58921.000000</td>\n",
       "      <td>58921.000000</td>\n",
       "      <td>58921.000000</td>\n",
       "      <td>58921.000000</td>\n",
       "      <td>58921.000000</td>\n",
       "      <td>58921.000000</td>\n",
       "      <td>58921.000000</td>\n",
       "      <td>58921.000000</td>\n",
       "      <td>58921.00000</td>\n",
       "      <td>58921.000000</td>\n",
       "    </tr>\n",
       "    <tr>\n",
       "      <th>mean</th>\n",
       "      <td>29461.000000</td>\n",
       "      <td>39383.739482</td>\n",
       "      <td>26691.645050</td>\n",
       "      <td>117028.638041</td>\n",
       "      <td>118316.334091</td>\n",
       "      <td>118858.006721</td>\n",
       "      <td>126358.019993</td>\n",
       "      <td>170455.861425</td>\n",
       "      <td>179278.05896</td>\n",
       "      <td>119707.754264</td>\n",
       "    </tr>\n",
       "    <tr>\n",
       "      <th>std</th>\n",
       "      <td>17009.171942</td>\n",
       "      <td>33717.397122</td>\n",
       "      <td>35110.244281</td>\n",
       "      <td>10805.446548</td>\n",
       "      <td>4284.678750</td>\n",
       "      <td>17916.179109</td>\n",
       "      <td>32068.294507</td>\n",
       "      <td>69684.692799</td>\n",
       "      <td>99639.96530</td>\n",
       "      <td>5326.979178</td>\n",
       "    </tr>\n",
       "    <tr>\n",
       "      <th>min</th>\n",
       "      <td>1.000000</td>\n",
       "      <td>0.000000</td>\n",
       "      <td>25.000000</td>\n",
       "      <td>4292.000000</td>\n",
       "      <td>23779.000000</td>\n",
       "      <td>4674.000000</td>\n",
       "      <td>117879.000000</td>\n",
       "      <td>4673.000000</td>\n",
       "      <td>3130.00000</td>\n",
       "      <td>117880.000000</td>\n",
       "    </tr>\n",
       "    <tr>\n",
       "      <th>25%</th>\n",
       "      <td>14731.000000</td>\n",
       "      <td>18418.000000</td>\n",
       "      <td>4663.000000</td>\n",
       "      <td>117961.000000</td>\n",
       "      <td>118096.000000</td>\n",
       "      <td>118378.000000</td>\n",
       "      <td>118259.000000</td>\n",
       "      <td>117913.000000</td>\n",
       "      <td>118331.00000</td>\n",
       "      <td>118055.000000</td>\n",
       "    </tr>\n",
       "    <tr>\n",
       "      <th>50%</th>\n",
       "      <td>29461.000000</td>\n",
       "      <td>33248.000000</td>\n",
       "      <td>14789.000000</td>\n",
       "      <td>117961.000000</td>\n",
       "      <td>118300.000000</td>\n",
       "      <td>118910.000000</td>\n",
       "      <td>118636.000000</td>\n",
       "      <td>129282.000000</td>\n",
       "      <td>118704.00000</td>\n",
       "      <td>118570.000000</td>\n",
       "    </tr>\n",
       "    <tr>\n",
       "      <th>75%</th>\n",
       "      <td>44191.000000</td>\n",
       "      <td>45481.000000</td>\n",
       "      <td>46512.000000</td>\n",
       "      <td>117961.000000</td>\n",
       "      <td>118386.000000</td>\n",
       "      <td>120410.000000</td>\n",
       "      <td>120006.000000</td>\n",
       "      <td>234813.000000</td>\n",
       "      <td>290919.00000</td>\n",
       "      <td>119353.000000</td>\n",
       "    </tr>\n",
       "    <tr>\n",
       "      <th>max</th>\n",
       "      <td>58921.000000</td>\n",
       "      <td>312136.000000</td>\n",
       "      <td>311779.000000</td>\n",
       "      <td>311178.000000</td>\n",
       "      <td>194897.000000</td>\n",
       "      <td>277693.000000</td>\n",
       "      <td>311867.000000</td>\n",
       "      <td>311867.000000</td>\n",
       "      <td>308574.00000</td>\n",
       "      <td>270691.000000</td>\n",
       "    </tr>\n",
       "  </tbody>\n",
       "</table>\n",
       "</div>"
      ],
      "text/plain": [
       "                 id       RESOURCE         MGR_ID  ROLE_ROLLUP_1  \\\n",
       "count  58921.000000   58921.000000   58921.000000   58921.000000   \n",
       "mean   29461.000000   39383.739482   26691.645050  117028.638041   \n",
       "std    17009.171942   33717.397122   35110.244281   10805.446548   \n",
       "min        1.000000       0.000000      25.000000    4292.000000   \n",
       "25%    14731.000000   18418.000000    4663.000000  117961.000000   \n",
       "50%    29461.000000   33248.000000   14789.000000  117961.000000   \n",
       "75%    44191.000000   45481.000000   46512.000000  117961.000000   \n",
       "max    58921.000000  312136.000000  311779.000000  311178.000000   \n",
       "\n",
       "       ROLE_ROLLUP_2  ROLE_DEPTNAME     ROLE_TITLE  ROLE_FAMILY_DESC  \\\n",
       "count   58921.000000   58921.000000   58921.000000      58921.000000   \n",
       "mean   118316.334091  118858.006721  126358.019993     170455.861425   \n",
       "std      4284.678750   17916.179109   32068.294507      69684.692799   \n",
       "min     23779.000000    4674.000000  117879.000000       4673.000000   \n",
       "25%    118096.000000  118378.000000  118259.000000     117913.000000   \n",
       "50%    118300.000000  118910.000000  118636.000000     129282.000000   \n",
       "75%    118386.000000  120410.000000  120006.000000     234813.000000   \n",
       "max    194897.000000  277693.000000  311867.000000     311867.000000   \n",
       "\n",
       "        ROLE_FAMILY      ROLE_CODE  \n",
       "count   58921.00000   58921.000000  \n",
       "mean   179278.05896  119707.754264  \n",
       "std     99639.96530    5326.979178  \n",
       "min      3130.00000  117880.000000  \n",
       "25%    118331.00000  118055.000000  \n",
       "50%    118704.00000  118570.000000  \n",
       "75%    290919.00000  119353.000000  \n",
       "max    308574.00000  270691.000000  "
      ]
     },
     "execution_count": 12,
     "metadata": {},
     "output_type": "execute_result"
    }
   ],
   "source": [
    "df_test.describe()"
   ]
  },
  {
   "cell_type": "code",
   "execution_count": 13,
   "metadata": {},
   "outputs": [
    {
     "data": {
      "text/plain": [
       "1    30872\n",
       "0     1897\n",
       "Name: TARGET, dtype: int64"
      ]
     },
     "execution_count": 13,
     "metadata": {},
     "output_type": "execute_result"
    }
   ],
   "source": [
    "df_train['TARGET'].value_counts()"
   ]
  },
  {
   "cell_type": "code",
   "execution_count": 14,
   "metadata": {},
   "outputs": [
    {
     "data": {
      "text/plain": [
       "TARGET              0\n",
       "RESOURCE            0\n",
       "MGR_ID              0\n",
       "ROLE_ROLLUP_1       0\n",
       "ROLE_ROLLUP_2       0\n",
       "ROLE_DEPTNAME       0\n",
       "ROLE_TITLE          0\n",
       "ROLE_FAMILY_DESC    0\n",
       "ROLE_FAMILY         0\n",
       "ROLE_CODE           0\n",
       "dtype: int64"
      ]
     },
     "execution_count": 14,
     "metadata": {},
     "output_type": "execute_result"
    }
   ],
   "source": [
    "df_train.isna().sum()"
   ]
  },
  {
   "cell_type": "code",
   "execution_count": 15,
   "metadata": {},
   "outputs": [
    {
     "data": {
      "text/plain": [
       "id                  0\n",
       "RESOURCE            0\n",
       "MGR_ID              0\n",
       "ROLE_ROLLUP_1       0\n",
       "ROLE_ROLLUP_2       0\n",
       "ROLE_DEPTNAME       0\n",
       "ROLE_TITLE          0\n",
       "ROLE_FAMILY_DESC    0\n",
       "ROLE_FAMILY         0\n",
       "ROLE_CODE           0\n",
       "dtype: int64"
      ]
     },
     "execution_count": 15,
     "metadata": {},
     "output_type": "execute_result"
    }
   ],
   "source": [
    "df_test.isna().sum()"
   ]
  },
  {
   "cell_type": "code",
   "execution_count": 16,
   "metadata": {},
   "outputs": [
    {
     "name": "stdout",
     "output_type": "stream",
     "text": [
      "[0, 1, 2, 3, 4, 5, 6, 7, 8]\n"
     ]
    }
   ],
   "source": [
    "Features = list(df_train.columns)\n",
    "Features.remove('TARGET')\n",
    "cat_features = list(range(df_train.drop(\"TARGET\",1).shape[1]))\n",
    "print(cat_features)"
   ]
  },
  {
   "cell_type": "code",
   "execution_count": 17,
   "metadata": {},
   "outputs": [],
   "source": [
    "our_x_train = df_train[Features]\n",
    "our_y_train = df_train['TARGET']\n",
    "our_x_test = df_test[Features]"
   ]
  },
  {
   "cell_type": "code",
   "execution_count": 18,
   "metadata": {},
   "outputs": [],
   "source": [
    "X_train, X_test, y_train, y_test = train_test_split(our_x_train,\n",
    "                                                    our_y_train,\n",
    "                                                    test_size=0.33,\n",
    "                                                    random_state=17)"
   ]
  },
  {
   "cell_type": "code",
   "execution_count": 19,
   "metadata": {},
   "outputs": [
    {
     "name": "stdout",
     "output_type": "stream",
     "text": [
      "(21955, 9) (10814, 9) (21955,) (10814,)\n"
     ]
    }
   ],
   "source": [
    "print(X_train.shape, X_test.shape, y_train.shape, y_test.shape)"
   ]
  },
  {
   "cell_type": "code",
   "execution_count": 20,
   "metadata": {},
   "outputs": [
    {
     "name": "stdout",
     "output_type": "stream",
     "text": [
      "class 1: 0.9421099209618847\n",
      "class 0: 0.05789007903811529\n"
     ]
    },
    {
     "data": {
      "text/plain": [
       "1    30872\n",
       "0     1897\n",
       "Name: TARGET, dtype: int64"
      ]
     },
     "metadata": {},
     "output_type": "display_data"
    }
   ],
   "source": [
    "# checking the label balance in dataset\n",
    "im_check = df_train.TARGET.value_counts()\n",
    "\n",
    "print(\"class 1:\", im_check[1]/sum(im_check))\n",
    "print(\"class 0:\", im_check[0]/sum(im_check))\n",
    "\n",
    "display(im_check)"
   ]
  },
  {
   "cell_type": "code",
   "execution_count": 21,
   "metadata": {},
   "outputs": [],
   "source": [
    "# Separate classes\n",
    "class_0 = df_train[df_train.TARGET == 0]\n",
    "class_1 = df_train[df_train.TARGET == 1]\n",
    "\n",
    "# Downsample majority class\n",
    "down_1_class = resample(class_1,\n",
    "                        n_samples=1897,    # to match minority class\n",
    "                        random_state=10)  # reproducible results\n",
    "\n",
    "\n",
    "# Combine minority class with downsampled majority class\n",
    "down_df = pd.concat([down_1_class, class_0])\n",
    "\n",
    "# Join together class 0's target vector with the downsampled class 1's target vector\n",
    "down_df.TARGET.value_counts()\n",
    "\n",
    "\n",
    "# downsampled_df\n",
    "X_dtrain, X_dvalid, y_dtrain, y_dvalid = train_test_split(\n",
    "    down_df.drop('TARGET', axis=1), down_df.TARGET, train_size=0.8, random_state=950)\n",
    "\n"
   ]
  },
  {
   "cell_type": "code",
   "execution_count": 22,
   "metadata": {},
   "outputs": [],
   "source": [
    "def plot_confusion_matrix(actual_val, pred_val, title=None):\n",
    "    \"\"\"\n",
    "    pd.crosstab() - crosstab function builds a cross-tabulation table that can show the \n",
    "                    requency with which certain groups of data appear.\n",
    "    \n",
    "    \"\"\"\n",
    "    confusion_matrix = pd.crosstab(actual_val, pred_val,\n",
    "                                   rownames=['Actual'],\n",
    "                                   colnames=['Predicted'])\n",
    "    \n",
    "    plot = sns.heatmap(confusion_matrix, annot=True, fmt=',.0f')\n",
    "    \n",
    "    if title is None:\n",
    "        pass\n",
    "    else:\n",
    "        plot.set_title(title)\n",
    "        \n",
    "    plt.show()"
   ]
  },
  {
   "cell_type": "markdown",
   "metadata": {},
   "source": [
    "**Introduction and Overview.**\n",
    "\n",
    "The popular algorithms XGBoost and LightGBM are both variants of Gradient Boosting Decision Trees. \n",
    "\n",
    "Both algorithms use a greedy approach to minimising the gradient of loss function to build an ensemble of weak learners. Both algorithms use a leaf wise strategy rather than a level wise strategy to build the trees\n",
    "\n",
    "As the algorithms are very frequently updated, the features are pretty much common between the algorithms. It can be difficult to compare the two in terms of which performance. The choice would depend on the data and the problem at hand. \n",
    "\n",
    "The main challenge of these methods is that finding the best split points of the trees in time consuming and memory consuming operations.Both LightGBM and XGBoost can use different optimisation techniques or methods to identify the best split point"
   ]
  },
  {
   "cell_type": "markdown",
   "metadata": {},
   "source": [
    "**Light GBM**\n",
    "\n",
    "LightGBM is a gradient boosting framework that uses tree based learning algorithms. It is designed to be distributed and efficient with the following advantages:\n",
    "* Faster training speed and higher efficiency.\n",
    "* Lower memory usage.\n",
    "* Better accuracy.\n",
    "* Support of parallel and GPU learning.\n",
    "* Capable of handling large-scale data.\n",
    "**"
   ]
  },
  {
   "cell_type": "markdown",
   "metadata": {},
   "source": [
    "Let us see what version of LightGBM we have got!!"
   ]
  },
  {
   "cell_type": "code",
   "execution_count": 23,
   "metadata": {},
   "outputs": [
    {
     "name": "stdout",
     "output_type": "stream",
     "text": [
      "LightGBM version: 2.3.0\n"
     ]
    }
   ],
   "source": [
    "print(\"LightGBM version:\", lgb.__version__)"
   ]
  },
  {
   "cell_type": "markdown",
   "metadata": {},
   "source": [
    "**LightGBM Parameters**\n",
    "\n",
    "LightGBM supports a huge list of parameters that can be finetuned according to the problem we have at hand. "
   ]
  },
  {
   "cell_type": "markdown",
   "metadata": {},
   "source": [
    "**Data Handling Features of LightGBM**\n",
    "\n",
    "In this specific example, we can see two problems from a data preprocessing perspective:\n",
    "1. Class Imbalance\n",
    "2. Categorical Features Handling\n",
    "3. Handling of missing values\n"
   ]
  },
  {
   "cell_type": "markdown",
   "metadata": {},
   "source": [
    "**Class Imbalance**\n",
    "\n",
    "LightGBM has inbuilt features for handling Class Imbalance and provides two paramters to handle Class Imbalance:  'is_unbalance' and 'scale_pos_weight'. Let us compare using these parameters against manual downsampling. We will also plot and compare how the *Feature Importance* **changes in the three cases"
   ]
  },
  {
   "cell_type": "code",
   "execution_count": 24,
   "metadata": {},
   "outputs": [],
   "source": [
    "def run_lgb(X_train, X_test, y_train, y_test, finetuned_params, title):\n",
    "    FIXED_PARAMS={'objective': 'binary',\n",
    "              'metric': 'auc',\n",
    "              'boosting':'gbdt',\n",
    "              'num_boost_round':300,\n",
    "              'verbosity' : -1}\n",
    "    \n",
    "    params={**FIXED_PARAMS, **finetuned_params}\n",
    "    lgtrain = lgb.Dataset(X_train, label= y_train)\n",
    "    lgval = lgb.Dataset(X_test, label=y_test)\n",
    "    evals_result = {}\n",
    "    \n",
    "    model = lgb.LGBMClassifier(**params)\n",
    "    model.fit(X_train,y_train)\n",
    "    y_pred = model.predict(X_test)\n",
    "    \n",
    "    \n",
    "    print(\"Accuracy\", accuracy_score(y_test, y_pred))\n",
    "    plot_confusion_matrix(y_test, y_pred,title)\n",
    "   \n",
    "    lgb.plot_importance(booster = model, title =title)\n",
    "    "
   ]
  },
  {
   "cell_type": "code",
   "execution_count": 25,
   "metadata": {},
   "outputs": [
    {
     "name": "stderr",
     "output_type": "stream",
     "text": [
      "/opt/conda/lib/python3.6/site-packages/lightgbm/engine.py:148: UserWarning: Found `num_boost_round` in params. Will use it instead of argument\n",
      "  warnings.warn(\"Found `{}` in params. Will use it instead of argument\".format(alias))\n"
     ]
    },
    {
     "name": "stdout",
     "output_type": "stream",
     "text": [
      "Accuracy 0.7470355731225297\n"
     ]
    },
    {
     "data": {
      "image/png": "[encoded data removed]",
      "text/plain": [
       "<Figure size 432x288 with 2 Axes>"
      ]
     },
     "metadata": {
      "needs_background": "light"
     },
     "output_type": "display_data"
    },
    {
     "data": {
      "image/png": "[encoded data removed]",
      "text/plain": [
       "<Figure size 432x288 with 1 Axes>"
      ]
     },
     "metadata": {
      "needs_background": "light"
     },
     "output_type": "display_data"
    }
   ],
   "source": [
    "params_downsampling = {}\n",
    "run_lgb(X_dtrain, X_dvalid, y_dtrain, y_dvalid,params_downsampling,\"Using Downsampled Dataset\" )\n"
   ]
  },
  {
   "cell_type": "code",
   "execution_count": 26,
   "metadata": {},
   "outputs": [
    {
     "name": "stdout",
     "output_type": "stream",
     "text": [
      "Accuracy 0.9066950249676345\n"
     ]
    },
    {
     "data": {
      "image/png": "[encoded data removed]",
      "text/plain": [
       "<Figure size 432x288 with 2 Axes>"
      ]
     },
     "metadata": {
      "needs_background": "light"
     },
     "output_type": "display_data"
    },
    {
     "data": {
      "image/png": "[encoded data removed]",
      "text/plain": [
       "<Figure size 432x288 with 1 Axes>"
      ]
     },
     "metadata": {
      "needs_background": "light"
     },
     "output_type": "display_data"
    }
   ],
   "source": [
    "params_class_imbalance = {'is_unbalance':True}\n",
    "run_lgb(X_train, X_test, y_train, y_test,params_class_imbalance,\"Using is_unbalance parameter set to True\" )\n"
   ]
  },
  {
   "cell_type": "code",
   "execution_count": 27,
   "metadata": {},
   "outputs": [
    {
     "name": "stdout",
     "output_type": "stream",
     "text": [
      "Accuracy 0.9050305159977806\n"
     ]
    },
    {
     "data": {
      "image/png": "[encoded data removed]",
      "text/plain": [
       "<Figure size 432x288 with 2 Axes>"
      ]
     },
     "metadata": {
      "needs_background": "light"
     },
     "output_type": "display_data"
    },
    {
     "data": {
      "image/png": "[encoded data removed]",
      "text/plain": [
       "<Figure size 432x288 with 1 Axes>"
      ]
     },
     "metadata": {
      "needs_background": "light"
     },
     "output_type": "display_data"
    }
   ],
   "source": [
    "\n",
    "params_scale_pos_weight = {'scale_pos_weight':im_check[0]/im_check[1]}\n",
    "run_lgb(X_train, X_test, y_train, y_test,params_scale_pos_weight,\"Using scale_pos_weight Parameter\" )"
   ]
  },
  {
   "cell_type": "markdown",
   "metadata": {},
   "source": [
    "We can conclude that the lightGBM parameters 'is_unbalance' and 'scale_pos_weight' provides significant improvement in accuracy and is definitely better than using manual downsampling.\n",
    "\n",
    "Among the two parameters, using the 'is_unbalance' feature performs slightly better than 'scale_pos_weight' in this dataset."
   ]
  },
  {
   "cell_type": "markdown",
   "metadata": {},
   "source": [
    "**Handling of Categorical Features.**"
   ]
  },
  {
   "cell_type": "markdown",
   "metadata": {},
   "source": [
    "LightGBM provides support for handling categorical features. It is possible to provide the list of categorical features in a dataset using the *'cat_features'* parameter.\n",
    "\n",
    "\n",
    "Let us compare performance after using this feature"
   ]
  },
  {
   "cell_type": "code",
   "execution_count": 28,
   "metadata": {},
   "outputs": [
    {
     "name": "stdout",
     "output_type": "stream",
     "text": [
      "Accuracy 0.9050305159977806\n"
     ]
    },
    {
     "data": {
      "image/png": "[encoded data removed]",
      "text/plain": [
       "<Figure size 432x288 with 2 Axes>"
      ]
     },
     "metadata": {
      "needs_background": "light"
     },
     "output_type": "display_data"
    },
    {
     "data": {
      "image/png": "[encoded data removed]",
      "text/plain": [
       "<Figure size 432x288 with 1 Axes>"
      ]
     },
     "metadata": {
      "needs_background": "light"
     },
     "output_type": "display_data"
    }
   ],
   "source": [
    "params_scale_pos_weight = {'scale_pos_weight':im_check[0]/im_check[1]}\n",
    "run_lgb(X_train, X_test, y_train, y_test,params_scale_pos_weight,\"Using scale_pos_weight Parameter\" )"
   ]
  },
  {
   "cell_type": "code",
   "execution_count": 29,
   "metadata": {},
   "outputs": [
    {
     "name": "stdout",
     "output_type": "stream",
     "text": [
      "Accuracy 0.9066950249676345\n"
     ]
    },
    {
     "data": {
      "image/png": "[encoded data removed]",
      "text/plain": [
       "<Figure size 432x288 with 2 Axes>"
      ]
     },
     "metadata": {
      "needs_background": "light"
     },
     "output_type": "display_data"
    },
    {
     "data": {
      "image/png": "[encoded data removed]",
      "text/plain": [
       "<Figure size 432x288 with 1 Axes>"
      ]
     },
     "metadata": {
      "needs_background": "light"
     },
     "output_type": "display_data"
    }
   ],
   "source": [
    "params_cat_features = {'cat_feature' : cat_features,\n",
    "                      'scale_pos_weight':im_check[0]/im_check[1]}\n",
    "run_lgb(X_train, X_test, y_train, y_test,params_class_imbalance,\"Using LightGBMs Categorical Features\" )\n"
   ]
  },
  {
   "cell_type": "markdown",
   "metadata": {},
   "source": [
    "There is a noticeable improvement in accuracy when the cat_features parameter is used."
   ]
  },
  {
   "cell_type": "markdown",
   "metadata": {},
   "source": [
    "**Handling of NA and missing values.**\n",
    "\n",
    "Missing values can be handled using below LightGBM parameters\n",
    "* use_missing 🔗︎, default = true, type = bool\n",
    "\n",
    "    set this to false to disable the special handle of missing value\n",
    "\n",
    "* zero_as_missing 🔗︎, default = false, type = bool\n",
    "\n",
    "    set this to true to treat all zero as missing values (including the unshown values in LibSVM / sparse matrices)\n",
    "\n",
    "    set this to false to use na for representing missing values\n",
    "    \n",
    "When categorical features are specified, all negative values will be treated as missing values\n",
    "\n",
    "PS: We do not have any missing values in this Dataset\n"
   ]
  },
  {
   "cell_type": "markdown",
   "metadata": {},
   "source": [
    "**Important Hyperparameters and Tuning:**\n",
    "\n",
    "LightGBM supports a large assortment of parameters that can be used to control the performance of the model. Some of the most importance parameters are listed below.\n",
    "\n",
    "*Core parameters*\n",
    "\n",
    "* objective 🔗︎ To specify the model objective\n",
    "\n",
    "    Can take values like 'regression'. 'binary', 'multiclass'\n",
    "\n",
    "* boosting 🔗︎ To specify the boosting type\n",
    "\n",
    "    Can take values like 'gbdt', 'rf' , 'dart' , 'goss'\n",
    "    \n",
    "* num_iterations 🔗︎, default = 100\n",
    "\n",
    "    Number of boosting iterations\n",
    "\n",
    "* learning_rate 🔗︎ Learning rate for the algorithm\n",
    "\n",
    "  \n",
    "\n",
    "*Learning Control Parameters*\n",
    "* max_depth 🔗︎, Used to deal with over-fitting when #data is small. Tree still grows leaf-wise\n",
    "\n",
    "* min_data_in_leaf 🔗︎,minimal number of data in one leaf. Can be used to deal with over-fitting\n",
    "    \n",
    "* pos_bagging_fraction, neg_bagging_fraction 🔗︎,  used only in binary application, used for imbalanced binary classification problem\n",
    "\n",
    "\n",
    "* feature_fraction 🔗︎ LightGBM will randomly select part of features on each iteration (tree) if feature_fraction smaller than 1.0. For example, if you set it to 0.8, LightGBM will select 80% of features before training each tree. Can be used to speed up training and to deal with over-fitting\n",
    "\n",
    "*IO Parameters*\n",
    "    \n",
    "* max_bin 🔗︎, max number of bins that feature values will be bucketed in, small number of bins may reduce training accuracy but may increase general power (deal with over-fitting)\n",
    "\n",
    "*Metric Parameters*\n",
    "* metric 🔗︎, Can take values 'mse','rmse','mae','auc' etc\n",
    "\n",
    "    metric(s) to be evaluated on the evaluation set(s)\n",
    " "
   ]
  },
  {
   "cell_type": "markdown",
   "metadata": {},
   "source": [
    "**Grid Search for LightGBM Hyperparameter Tuning**"
   ]
  },
  {
   "cell_type": "code",
   "execution_count": 30,
   "metadata": {},
   "outputs": [],
   "source": [
    "def run_lgb_gridsearch(X_train, X_test, y_train, y_test,  our_x_test):\n",
    "    SEARCH_PARAMS = {'learning_rate': 0.4,\n",
    "                 'max_depth': 15,\n",
    "                 'num_leaves': 20,\n",
    "                 'feature_fraction': 0.8,\n",
    "                 \"bagging_fraction\" : 0.6,\n",
    "                 \"bagging_frequency\" : 6,\n",
    "                 \"bagging_seed\" : 42,\n",
    "                 'subsample': 0.2}\n",
    "\n",
    "    FIXED_PARAMS={'objective': 'binary',\n",
    "              'metric': 'auc',\n",
    "              'is_unbalance':True,\n",
    "              'early_stopping_rounds':30,\n",
    "              'verbosity' : -1}\n",
    "    \n",
    "    params = {'metric':FIXED_PARAMS['metric'],\n",
    "             'objective':FIXED_PARAMS['objective'],\n",
    "             'verbosity' :FIXED_PARAMS['verbosity'],\n",
    "             'is_unbalance':FIXED_PARAMS['is_unbalance'],\n",
    "             **SEARCH_PARAMS}\n",
    "    \n",
    "    grid = {'learning_rate': [0.03, 0.1],\n",
    "        \"num_leaves\" : [20,30,40],\n",
    "        'max_depth':  [4, 6, 10],\n",
    "        'boosting':['gbdt', 'dart','goss'],\n",
    "        'num_boost_round':[100,200,300],\n",
    "        }\n",
    "    \n",
    "\n",
    "    model = lgb.LGBMClassifier(**params)\n",
    "    \n",
    "    grid = GridSearchCV(model, grid,\n",
    "                    verbose=0,\n",
    "                    cv=3,\n",
    "                    n_jobs=2)\n",
    "    # Run the grid\n",
    "    grid.fit(X_train,y_train)\n",
    "    print(grid)\n",
    "    # Print the best parameters found\n",
    "    print(grid.best_params_)\n",
    "    print(grid.best_score_)\n",
    "\n",
    "    # Using parameters already set above, replace in the best from the grid search\n",
    "    params['learning_rate'] = grid.best_params_['learning_rate']\n",
    "    params['num_leaves'] = grid.best_params_['num_leaves']\n",
    "    params['max_depth'] = grid.best_params_['max_depth']\n",
    "    params['boosting'] = grid.best_params_['boosting']\n",
    "    params['num_boost_round'] = grid.best_params_['num_boost_round']\n",
    "\n",
    "    model.fit(X_train,y_train)\n",
    "    pred_test_y = model.predict(our_x_test)\n",
    "    \n",
    "    \n",
    "    #pred_test_y = np.expm1(model.predict(test_X, num_iteration=model.best_iteration))\n",
    "    return pred_test_y, model"
   ]
  },
  {
   "cell_type": "code",
   "execution_count": 31,
   "metadata": {},
   "outputs": [
    {
     "name": "stderr",
     "output_type": "stream",
     "text": [
      "/opt/conda/lib/python3.6/site-packages/lightgbm/engine.py:148: UserWarning: Found `num_boost_round` in params. Will use it instead of argument\n",
      "  warnings.warn(\"Found `{}` in params. Will use it instead of argument\".format(alias))\n"
     ]
    },
    {
     "name": "stdout",
     "output_type": "stream",
     "text": [
      "GridSearchCV(cv=3, error_score='raise-deprecating',\n",
      "             estimator=LGBMClassifier(bagging_fraction=0.6, bagging_frequency=6,\n",
      "                                      bagging_seed=42, boosting_type='gbdt',\n",
      "                                      class_weight=None, colsample_bytree=1.0,\n",
      "                                      feature_fraction=0.8,\n",
      "                                      importance_type='split',\n",
      "                                      is_unbalance=True, learning_rate=0.4,\n",
      "                                      max_depth=15, metric='auc',\n",
      "                                      min_child_samples=20,\n",
      "                                      min_child_weight=0.001,\n",
      "                                      min_spl...\n",
      "                                      reg_alpha=0.0, reg_lambda=0.0,\n",
      "                                      silent=True, subsample=0.2,\n",
      "                                      subsample_for_bin=200000,\n",
      "                                      subsample_freq=0, verbosity=-1),\n",
      "             iid='warn', n_jobs=2,\n",
      "             param_grid={'boosting': ['gbdt', 'dart', 'goss'],\n",
      "                         'learning_rate': [0.03, 0.1], 'max_depth': [4, 6, 10],\n",
      "                         'num_boost_round': [100, 200, 300],\n",
      "                         'num_leaves': [20, 30, 40]},\n",
      "             pre_dispatch='2*n_jobs', refit=True, return_train_score=False,\n",
      "             scoring=None, verbose=0)\n",
      "{'boosting': 'gbdt', 'learning_rate': 0.1, 'max_depth': 10, 'num_boost_round': 300, 'num_leaves': 40}\n",
      "0.9204281484855386\n",
      "LightGBM Training Completed...\n"
     ]
    },
    {
     "data": {
      "text/plain": [
       "LGBMClassifier(bagging_fraction=0.6, bagging_frequency=6, bagging_seed=42,\n",
       "               boosting_type='gbdt', class_weight=None, colsample_bytree=1.0,\n",
       "               feature_fraction=0.8, importance_type='split', is_unbalance=True,\n",
       "               learning_rate=0.4, max_depth=15, metric='auc',\n",
       "               min_child_samples=20, min_child_weight=0.001, min_split_gain=0.0,\n",
       "               n_estimators=100, n_jobs=-1, num_leaves=20, objective='binary',\n",
       "               random_state=None, reg_alpha=0.0, reg_lambda=0.0, silent=True,\n",
       "               subsample=0.2, subsample_for_bin=200000, subsample_freq=0,\n",
       "               verbosity=-1)"
      ]
     },
     "execution_count": 31,
     "metadata": {},
     "output_type": "execute_result"
    }
   ],
   "source": [
    "pred_test, model = run_lgb_gridsearch(X_train, X_test, y_train, y_test, our_x_test)\n",
    "print(\"LightGBM Training Completed...\")\n",
    "model"
   ]
  },
  {
   "cell_type": "markdown",
   "metadata": {},
   "source": [
    "**LightGBM Cross Validation**\n",
    "\n",
    "LightGBM supports for in- built crossvalidation using LightGBM.cv"
   ]
  },
  {
   "cell_type": "code",
   "execution_count": 32,
   "metadata": {},
   "outputs": [
    {
     "data": {
      "text/plain": [
       "{'l1-mean': [0.10915226655186834,\n",
       "  0.10873496529335532,\n",
       "  0.10833276444459546,\n",
       "  0.10786969327223676,\n",
       "  0.10736332019243179,\n",
       "  0.10691638924086518,\n",
       "  0.10649017746114191,\n",
       "  0.10604609311997604,\n",
       "  0.10558001301583914,\n",
       "  0.10526797543083483,\n",
       "  0.10490382996725744,\n",
       "  0.10448982810759473,\n",
       "  0.10416049597803241,\n",
       "  0.10379010085559849,\n",
       "  0.10339569790168934,\n",
       "  0.10306896874854925,\n",
       "  0.10276835268589991,\n",
       "  0.10245465390185678,\n",
       "  0.10208758767777404,\n",
       "  0.10182945256259764,\n",
       "  0.10152244192371139,\n",
       "  0.10124268355288518,\n",
       "  0.10094934639041138,\n",
       "  0.10066641621648925,\n",
       "  0.10037652725822573,\n",
       "  0.1000272505027902,\n",
       "  0.09977089041943694,\n",
       "  0.09961002740456106,\n",
       "  0.09934004439316002,\n",
       "  0.09909561231225035,\n",
       "  0.09889460905589349,\n",
       "  0.09870644427120107,\n",
       "  0.098523805452415,\n",
       "  0.09830789707773997,\n",
       "  0.09806969200608551,\n",
       "  0.0979640553291955,\n",
       "  0.0978831645395521,\n",
       "  0.09771822353932529,\n",
       "  0.09749755699808212,\n",
       "  0.09732537522829225,\n",
       "  0.09713965124849133,\n",
       "  0.09695653264752092,\n",
       "  0.0967715762294518,\n",
       "  0.09670133032964683,\n",
       "  0.09654538453340922,\n",
       "  0.09638790794203078,\n",
       "  0.0962114844281013,\n",
       "  0.0961407145330579,\n",
       "  0.09601722485391799,\n",
       "  0.09583601290943881,\n",
       "  0.09569258523659768,\n",
       "  0.0955351907426734,\n",
       "  0.09541412234035918,\n",
       "  0.09518635359488781,\n",
       "  0.09510991960935485,\n",
       "  0.09497355737142961,\n",
       "  0.09483079367226804,\n",
       "  0.09473112855251536,\n",
       "  0.09456068349751919,\n",
       "  0.09441463709374646,\n",
       "  0.09427514291567224,\n",
       "  0.09415357573592327,\n",
       "  0.09398986716720892,\n",
       "  0.09390027832579635,\n",
       "  0.0937139596346714,\n",
       "  0.09354915478798699,\n",
       "  0.0934224658590274,\n",
       "  0.0932807607912048,\n",
       "  0.09316155170524294,\n",
       "  0.09302050369418537,\n",
       "  0.0928466328087027,\n",
       "  0.09274853022054019,\n",
       "  0.09266079005654489,\n",
       "  0.0925438668165214,\n",
       "  0.09245380348890629,\n",
       "  0.09231071776113607,\n",
       "  0.09225677702985985,\n",
       "  0.0921470647550019,\n",
       "  0.09206399998191139,\n",
       "  0.09193146872477483,\n",
       "  0.0917884742514002,\n",
       "  0.09171387871012575,\n",
       "  0.09161639315849374,\n",
       "  0.09147344695669572,\n",
       "  0.09140888614197014,\n",
       "  0.09132755388431214,\n",
       "  0.09122046526581089,\n",
       "  0.09110306415393456,\n",
       "  0.09102818769648319,\n",
       "  0.09092010746702683,\n",
       "  0.09082959521106544,\n",
       "  0.09070892782316863,\n",
       "  0.09059191647077597,\n",
       "  0.09049625990530392,\n",
       "  0.09040459634799823,\n",
       "  0.09030066165465912,\n",
       "  0.09015121083248513,\n",
       "  0.08995965102386531,\n",
       "  0.08984975373294085,\n",
       "  0.08972993408112072],\n",
       " 'l1-stdv': [0.0006048081961354581,\n",
       "  0.0005894214359290995,\n",
       "  0.000596425943372203,\n",
       "  0.0006618780819234544,\n",
       "  0.0006963124632923433,\n",
       "  0.0007097849324758755,\n",
       "  0.0006205436676971863,\n",
       "  0.000647340833209813,\n",
       "  0.0005913032869227098,\n",
       "  0.0006009905331796805,\n",
       "  0.000571757917921593,\n",
       "  0.0006311375492877064,\n",
       "  0.0006351194990326735,\n",
       "  0.0006223444006914616,\n",
       "  0.0007406281561436817,\n",
       "  0.0007575265523676577,\n",
       "  0.0008887688678209181,\n",
       "  0.0008832546935516354,\n",
       "  0.0008202168364244751,\n",
       "  0.0008311816222201085,\n",
       "  0.0007790803725414349,\n",
       "  0.0008534375295512766,\n",
       "  0.0009031728786497017,\n",
       "  0.0008926378522563618,\n",
       "  0.0007888143071419266,\n",
       "  0.0009087659611453549,\n",
       "  0.0008996614800222465,\n",
       "  0.0009673790444303734,\n",
       "  0.0009529506363760815,\n",
       "  0.0009560732329512028,\n",
       "  0.0009019965034279794,\n",
       "  0.0008759975053029434,\n",
       "  0.0009255804794727256,\n",
       "  0.0009326643409530148,\n",
       "  0.0009113812644646295,\n",
       "  0.0008780095372579138,\n",
       "  0.0008464739317044595,\n",
       "  0.0008208365217515816,\n",
       "  0.0008409096404278092,\n",
       "  0.0008922427042238174,\n",
       "  0.001008600315091747,\n",
       "  0.0010527890136273982,\n",
       "  0.0010224004500035957,\n",
       "  0.000999794409005711,\n",
       "  0.0010541011620503785,\n",
       "  0.0010235573608932047,\n",
       "  0.0009861924177638505,\n",
       "  0.0009645838998352329,\n",
       "  0.0010102050795333527,\n",
       "  0.0009870777025588913,\n",
       "  0.0009817537718077103,\n",
       "  0.0010009974392397882,\n",
       "  0.0009820761061284473,\n",
       "  0.000962238286940231,\n",
       "  0.0009889321956318192,\n",
       "  0.0009498520509000868,\n",
       "  0.0009749412431529896,\n",
       "  0.0009404283114230165,\n",
       "  0.0009524855288283166,\n",
       "  0.000927470459897757,\n",
       "  0.0009047939299309969,\n",
       "  0.0009501808256061118,\n",
       "  0.000937817007643348,\n",
       "  0.0009853816871758182,\n",
       "  0.0009762383062887185,\n",
       "  0.0009661319390046722,\n",
       "  0.0009482559026073299,\n",
       "  0.0009479857979959947,\n",
       "  0.0009181625979177285,\n",
       "  0.0009174320426651651,\n",
       "  0.0009376804239093545,\n",
       "  0.0009577856395693333,\n",
       "  0.000928642433317963,\n",
       "  0.0008832947833401474,\n",
       "  0.0008742609943619788,\n",
       "  0.0008870032296055062,\n",
       "  0.0009044480432420059,\n",
       "  0.0009096307484560082,\n",
       "  0.0009057762354597943,\n",
       "  0.0008643986998918725,\n",
       "  0.000835217993316478,\n",
       "  0.000852492226749649,\n",
       "  0.000913418364803915,\n",
       "  0.0009104447501791365,\n",
       "  0.0009112544409424947,\n",
       "  0.0009269111718265975,\n",
       "  0.0009821160140247136,\n",
       "  0.0009807161452551072,\n",
       "  0.0010139996580731288,\n",
       "  0.0010115189086360645,\n",
       "  0.0010165663322006604,\n",
       "  0.0009691791904423505,\n",
       "  0.0009641294313951965,\n",
       "  0.0009415745371875664,\n",
       "  0.0009641875162889072,\n",
       "  0.0009682311237699563,\n",
       "  0.0009796215555291671,\n",
       "  0.0010112465246538463,\n",
       "  0.0010473504562268398,\n",
       "  0.001009543007180476]}"
      ]
     },
     "execution_count": 32,
     "metadata": {},
     "output_type": "execute_result"
    }
   ],
   "source": [
    "dftrainLGB = lgb.Dataset(data = X_train, label = y_train)\n",
    "\n",
    "params = {'objective': 'binary'}\n",
    "\n",
    "\n",
    "lgb_cv_results = lgb.cv(\n",
    "        params,\n",
    "        dftrainLGB,\n",
    "        num_boost_round=100,\n",
    "        nfold=3,\n",
    "        metrics='mae',\n",
    "        early_stopping_rounds=10,\n",
    "        stratified=False\n",
    "        )\n",
    "\n",
    "lgb_cv_results"
   ]
  },
  {
   "cell_type": "markdown",
   "metadata": {},
   "source": [
    "**XGBoost**\n",
    "\n",
    "XGBoost stands for eXtreme Gradient Boosting.The implementation of the model supports the features of the scikit-learn and R implementations, with new additions like regularization. Three main forms of gradient boosting are supported:\n",
    "\n",
    "*     Gradient Boosting algorithm also called gradient boosting machine including the learning rate.\n",
    "*     Stochastic Gradient Boosting with sub-sampling at the row, column and column per split levels.\n",
    "*     Regularized Gradient Boosting with both L1 and L2 regularization.\n"
   ]
  },
  {
   "cell_type": "markdown",
   "metadata": {},
   "source": [
    "Checking the version of XGBoost.."
   ]
  },
  {
   "cell_type": "code",
   "execution_count": 33,
   "metadata": {},
   "outputs": [
    {
     "name": "stdout",
     "output_type": "stream",
     "text": [
      "XGBoost version: 0.90\n"
     ]
    }
   ],
   "source": [
    "print(\"XGBoost version:\", xgb.__version__)"
   ]
  },
  {
   "cell_type": "markdown",
   "metadata": {},
   "source": [
    "**Data Handling Features of XGBoost**\n",
    "\n",
    "\n",
    "**Class Imbalance**\n",
    "The implementation provides a hyperparameter designed to tune the behavior of the algorithm for imbalanced classification problems; this is the scale_pos_weight hyperparameter.\n",
    "\n",
    "By default, the scale_pos_weight hyperparameter is set to the value of 1.0 and has the effect of weighing the balance of positive examples, relative to negative examples when boosting decision trees. For an imbalanced binary classification dataset, the negative class refers to the majority class (class 0) and the positive class refers to the minority class (class 1).\n",
    "\n",
    "Gradients are used as the basis for fitting subsequent trees added to boost or correct errors made by the existing state of the ensemble of decision trees.\n",
    "\n",
    "The scale_pos_weight value is used to scale the gradient for the positive class.\n",
    "\n",
    "This has the effect of scaling errors made by the model during training on the positive class and encourages the model to over-correct them. In turn, this can help the model achieve better performance when making predictions on the positive class. Pushed too far, it may result in the model overfitting the positive class at the cost of worse performance on the negative class or both classes.\n",
    "\n",
    "As such, the scale_pos_weight can be used to train a class-weighted or cost-sensitive version of XGBoost for imbalanced classification.\n",
    "\n",
    "A sensible default value to set for the scale_pos_weight hyperparameter is the inverse of the class distribution. For example, for a dataset with a 1 to 100 ratio for examples in the minority to majority classes, the scale_pos_weight can be set to 100. This will give classification errors made by the model on the minority class (positive class) 100 times more impact, and in turn, 100 times more correction than errors made on the majority class."
   ]
  },
  {
   "cell_type": "markdown",
   "metadata": {},
   "source": [
    "Let us run XGBoost on  a manually downsampled dataset and then compare the XGBoost performance when using the scale_pos_weight parameter."
   ]
  },
  {
   "cell_type": "code",
   "execution_count": 34,
   "metadata": {},
   "outputs": [],
   "source": [
    "def run_xgb(X_train, X_test, y_train, y_test, finetuned_params, title):\n",
    "    \n",
    "    FIXED_PARAMS={'objective':'binary:logistic',\n",
    "              'eval_metric': 'auc',\n",
    "              'num_boost_round':300,\n",
    "              'eta': 0.001,\n",
    "              'max_depth': 10, \n",
    "              'subsample': 0.6, \n",
    "              'colsample_bytree': 0.6,\n",
    "              'alpha':0.001,\n",
    "              'random_state': 42, \n",
    "              'silent':True}\n",
    "\n",
    "    params={**FIXED_PARAMS, **finetuned_params}\n",
    "    model_xgb = xgb.XGBClassifier(**params)\n",
    "    #model_xgb = xgb.train(params, tr_data, 2000, watchlist, maximize=False, early_stopping_rounds = 100, verbose_eval=100)\n",
    "    model_xgb.fit(X_train, y_train)\n",
    "    y_pred = model_xgb.predict(X_test)\n",
    "    print(\"Accuracy\", accuracy_score(y_test, y_pred))\n",
    "    plot_confusion_matrix(y_test, y_pred,title)\n",
    "    xgb.plot_importance(model_xgb)\n",
    "    plt.show()\n",
    "    \n",
    "    \n",
    "    "
   ]
  },
  {
   "cell_type": "code",
   "execution_count": 35,
   "metadata": {},
   "outputs": [
    {
     "name": "stdout",
     "output_type": "stream",
     "text": [
      "Accuracy 0.7483530961791831\n"
     ]
    },
    {
     "data": {
      "image/png": "[encoded data removed]",
      "text/plain": [
       "<Figure size 432x288 with 2 Axes>"
      ]
     },
     "metadata": {
      "needs_background": "light"
     },
     "output_type": "display_data"
    },
    {
     "data": {
      "image/png": "[encoded data removed]",
      "text/plain": [
       "<Figure size 432x288 with 1 Axes>"
      ]
     },
     "metadata": {
      "needs_background": "light"
     },
     "output_type": "display_data"
    }
   ],
   "source": [
    "params_downsampling = {}\n",
    "run_xgb(X_dtrain, X_dvalid, y_dtrain, y_dvalid,params_downsampling,\"Using Downsampled Dataset\" )\n"
   ]
  },
  {
   "cell_type": "code",
   "execution_count": 36,
   "metadata": {},
   "outputs": [
    {
     "name": "stdout",
     "output_type": "stream",
     "text": [
      "Accuracy 0.8845940447567967\n"
     ]
    },
    {
     "data": {
      "image/png": "[encoded data removed]",
      "text/plain": [
       "<Figure size 432x288 with 2 Axes>"
      ]
     },
     "metadata": {
      "needs_background": "light"
     },
     "output_type": "display_data"
    },
    {
     "data": {
      "image/png": "[encoded data removed]",
      "text/plain": [
       "<Figure size 432x288 with 1 Axes>"
      ]
     },
     "metadata": {
      "needs_background": "light"
     },
     "output_type": "display_data"
    }
   ],
   "source": [
    "params_scale_pos_weight = {'scale_pos_weight':im_check[0]/im_check[1]}\n",
    "run_xgb(X_train, X_test, y_train, y_test,params_scale_pos_weight,\"Using scale_pos_weight Parameter\" )"
   ]
  },
  {
   "cell_type": "markdown",
   "metadata": {},
   "source": [
    "**Categorical Features Handling**\n",
    "\n",
    "XGBoost works only on numerical data. Hence categorical data needs to be encoded to numeric before it can be modelled.\n",
    "\n",
    "One Hot encoding or Label encoding maybe used to this regard. \n",
    "\n",
    "\n"
   ]
  },
  {
   "cell_type": "markdown",
   "metadata": {},
   "source": [
    "**Handling Missing Values and NA**\n",
    "\n",
    "xgboost decides at training time whether missing values go into the right or left node. It chooses which to minimise loss. If there are no missing values at training time, it defaults to sending any new missings to the right node.\n",
    "\n",
    "If Data has NaNs encoded as -1 or 0 or any other value, we can tell XGBOOST this to the algorithm using the parameter 'missing_value'. Eg:  missing_value=-65336:"
   ]
  },
  {
   "cell_type": "markdown",
   "metadata": {},
   "source": [
    "**Important Hyperparameters and Tunning:**\n",
    "\n",
    "XGBoost parameters are grouped to below four categories. A few important ones are mentioned below\n",
    "\n",
    "\n",
    "*General Parameters*\n",
    "\n",
    "* booster  🔗︎  Can be gbtree, gblinear or dart; gbtree and dart use tree based models while gblinear uses linear functions\n",
    "\n",
    "* verbosity. 🔗︎ Verbosity of printing messages. Valid values are 0 (silent), 1 (warning), 2 (info), 3 (debug). Sometimes XGBoost tries to change configurations based on heuristics, which is displayed as warning message. If there’s unexpected behaviour, please try to increase value of verbosity\n",
    "\n",
    "*Booster parameters*\n",
    "\n",
    "* eta  🔗︎  Step size shrinkage used in update to prevents overfitting. After each boosting step, we can directly get the weights of new features, and eta shrinks the feature weights to make the boosting process more conservative.\n",
    "\n",
    "* max_depth 🔗︎ Maximum depth of a tree. Increasing this value will make the model more complex and more likely to overfit\n",
    "\n",
    "* subsample 🔗︎ Subsample ratio of the training instances. Setting it to 0.5 means that XGBoost would randomly sample half of the training data prior to growing trees. and this will prevent overfitting. Subsampling will occur once in every boosting iteration.\n",
    "\n",
    "\n",
    "* lambda 🔗︎ L2 regularization term on weights. Increasing this value will make model more conservative\n",
    "\n",
    "* alpha 🔗︎ L1 regularization term on weights. Increasing this value will make model more conservative.\n",
    "\n",
    "\n",
    "*Learning task parameters*\n",
    "\n",
    "* objective 🔗︎ Specify the learning task and the corresponding learning objective. Can take values like    reg:squarederror: regression with squared loss.\n",
    "   reg:logistic: logistic regression\n",
    "   binary:logistic: logistic regression for binary classification, output probability\n",
    "   multi:softmax: set XGBoost to do multiclass classification using the softmax objective\n",
    "\n",
    "* eval_metric 🔗︎ Evaluation metrics for validation data Can take values like rmse, mae, logloss, error etc\n",
    "\n",
    "\n",
    "*Command line parameters*\n",
    "\n",
    "Relate to behavior of CLI version of XGBoost.\n"
   ]
  },
  {
   "cell_type": "markdown",
   "metadata": {},
   "source": [
    "**Grid Search and Hyperparameter Tuning**"
   ]
  },
  {
   "cell_type": "code",
   "execution_count": 37,
   "metadata": {},
   "outputs": [],
   "source": [
    "def run_xgb_gridsearch(X_train, X_test, y_train, y_test,  our_x_test):\n",
    "    params={'objective':'binary:logistic',\n",
    "              'eval_metric': 'auc',\n",
    "              'num_boost_round':300,\n",
    "              'eta': 0.001,\n",
    "              'max_depth': 10, \n",
    "              'alpha':0.001,\n",
    "              'random_state': 42, \n",
    "              'silent':True}\n",
    "    \n",
    "    grid = {'learning_rate': [0.03, 0.1],\n",
    "        \"num_leaves\" : [20,30,40],\n",
    "        'max_depth':  [4, 6, 10],\n",
    "        'num_boost_round':[100,200,300],\n",
    "        'subsample':[i/10.0 for i in range(6,10)],\n",
    "        'colsample_bytree':[i/10.0 for i in range(6,10)]\n",
    "        }\n",
    "    \n",
    "\n",
    "    \n",
    "    model_xgb = xgb.XGBClassifier(**params)\n",
    "    \n",
    "    grid = GridSearchCV(model_xgb, grid,\n",
    "                    verbose=0,\n",
    "                    cv=3,\n",
    "                    n_jobs=2)\n",
    "    # Run the grid\n",
    "    grid.fit(X_train,y_train)\n",
    "    print(grid)\n",
    "    # Print the best parameters found\n",
    "    print(grid.best_params_)\n",
    "    print(grid.best_score_)\n",
    "\n",
    "    # Using parameters already set above, replace in the best from the grid search\n",
    "    params['learning_rate'] = grid.best_params_['learning_rate']\n",
    "    params['num_leaves'] = grid.best_params_['num_leaves']\n",
    "    params['max_depth'] = grid.best_params_['max_depth']\n",
    "    params['num_boost_round'] = grid.best_params_['num_boost_round']\n",
    " \n",
    "\n",
    "    model_xgb.fit(X_train,y_train)\n",
    "    pred_test_y = model_xgb.predict(our_x_test)\n",
    "    \n",
    "    return   pred_test_y ,model_xgb"
   ]
  },
  {
   "cell_type": "code",
   "execution_count": 38,
   "metadata": {},
   "outputs": [
    {
     "name": "stdout",
     "output_type": "stream",
     "text": [
      "GridSearchCV(cv=3, error_score='raise-deprecating',\n",
      "             estimator=XGBClassifier(alpha=0.001, base_score=0.5,\n",
      "                                     booster='gbtree', colsample_bylevel=1,\n",
      "                                     colsample_bynode=1, colsample_bytree=1,\n",
      "                                     eta=0.001, eval_metric='auc', gamma=0,\n",
      "                                     learning_rate=0.1, max_delta_step=0,\n",
      "                                     max_depth=10, min_child_weight=1,\n",
      "                                     missing=None, n_estimators=100, n_jobs=1,\n",
      "                                     nthread=None, num_boost_round=300...\n",
      "                                     scale_pos_weight=1, seed=None, silent=True,\n",
      "                                     subsample=1, verbosity=1),\n",
      "             iid='warn', n_jobs=2,\n",
      "             param_grid={'colsample_bytree': [0.6, 0.7, 0.8, 0.9],\n",
      "                         'learning_rate': [0.03, 0.1], 'max_depth': [4, 6, 10],\n",
      "                         'num_boost_round': [100, 200, 300],\n",
      "                         'num_leaves': [20, 30, 40],\n",
      "                         'subsample': [0.6, 0.7, 0.8, 0.9]},\n",
      "             pre_dispatch='2*n_jobs', refit=True, return_train_score=False,\n",
      "             scoring=None, verbose=0)\n",
      "{'colsample_bytree': 0.7, 'learning_rate': 0.1, 'max_depth': 10, 'num_boost_round': 100, 'num_leaves': 20, 'subsample': 0.7}\n",
      "0.9473468458209975\n",
      "XGBoost Training Completed...\n"
     ]
    },
    {
     "data": {
      "text/plain": [
       "XGBClassifier(alpha=0.001, base_score=0.5, booster='gbtree',\n",
       "              colsample_bylevel=1, colsample_bynode=1, colsample_bytree=1,\n",
       "              eta=0.001, eval_metric='auc', gamma=0, learning_rate=0.1,\n",
       "              max_delta_step=0, max_depth=10, min_child_weight=1, missing=None,\n",
       "              n_estimators=100, n_jobs=1, nthread=None, num_boost_round=300,\n",
       "              objective='binary:logistic', random_state=42, reg_alpha=0,\n",
       "              reg_lambda=1, scale_pos_weight=1, seed=None, silent=True,\n",
       "              subsample=1, verbosity=1)"
      ]
     },
     "execution_count": 38,
     "metadata": {},
     "output_type": "execute_result"
    }
   ],
   "source": [
    "pred_test_y ,model= run_xgb_gridsearch(X_train, X_test, y_train, y_test, our_x_test)\n",
    "print(\"XGBoost Training Completed...\")\n",
    "model"
   ]
  },
  {
   "cell_type": "markdown",
   "metadata": {},
   "source": [
    "**XGBoost In built - Cross Validation**\n",
    "\n",
    "\n",
    "XGBoost supports for in- built crossvalidation using XGBoost.cv"
   ]
  },
  {
   "cell_type": "code",
   "execution_count": 39,
   "metadata": {},
   "outputs": [
    {
     "name": "stderr",
     "output_type": "stream",
     "text": [
      "/opt/conda/lib/python3.6/site-packages/xgboost/core.py:587: FutureWarning: Series.base is deprecated and will be removed in a future version\n",
      "  if getattr(data, 'base', None) is not None and \\\n"
     ]
    },
    {
     "data": {
      "text/html": [
       "<div>\n",
       "<style scoped>\n",
       "    .dataframe tbody tr th:only-of-type {\n",
       "        vertical-align: middle;\n",
       "    }\n",
       "\n",
       "    .dataframe tbody tr th {\n",
       "        vertical-align: top;\n",
       "    }\n",
       "\n",
       "    .dataframe thead th {\n",
       "        text-align: right;\n",
       "    }\n",
       "</style>\n",
       "<table border=\"1\" class=\"dataframe\">\n",
       "  <thead>\n",
       "    <tr style=\"text-align: right;\">\n",
       "      <th></th>\n",
       "      <th>train-auc-mean</th>\n",
       "      <th>train-auc-std</th>\n",
       "      <th>test-auc-mean</th>\n",
       "      <th>test-auc-std</th>\n",
       "    </tr>\n",
       "  </thead>\n",
       "  <tbody>\n",
       "    <tr>\n",
       "      <th>0</th>\n",
       "      <td>0.500000</td>\n",
       "      <td>0.000000</td>\n",
       "      <td>0.500000</td>\n",
       "      <td>0.000000</td>\n",
       "    </tr>\n",
       "    <tr>\n",
       "      <th>1</th>\n",
       "      <td>0.501282</td>\n",
       "      <td>0.001143</td>\n",
       "      <td>0.500713</td>\n",
       "      <td>0.000510</td>\n",
       "    </tr>\n",
       "    <tr>\n",
       "      <th>2</th>\n",
       "      <td>0.503085</td>\n",
       "      <td>0.000977</td>\n",
       "      <td>0.502464</td>\n",
       "      <td>0.002231</td>\n",
       "    </tr>\n",
       "    <tr>\n",
       "      <th>3</th>\n",
       "      <td>0.503085</td>\n",
       "      <td>0.000977</td>\n",
       "      <td>0.502464</td>\n",
       "      <td>0.002231</td>\n",
       "    </tr>\n",
       "    <tr>\n",
       "      <th>4</th>\n",
       "      <td>0.503084</td>\n",
       "      <td>0.000977</td>\n",
       "      <td>0.502464</td>\n",
       "      <td>0.002230</td>\n",
       "    </tr>\n",
       "    <tr>\n",
       "      <th>5</th>\n",
       "      <td>0.503084</td>\n",
       "      <td>0.000977</td>\n",
       "      <td>0.502464</td>\n",
       "      <td>0.002230</td>\n",
       "    </tr>\n",
       "    <tr>\n",
       "      <th>6</th>\n",
       "      <td>0.503084</td>\n",
       "      <td>0.000977</td>\n",
       "      <td>0.502464</td>\n",
       "      <td>0.002230</td>\n",
       "    </tr>\n",
       "    <tr>\n",
       "      <th>7</th>\n",
       "      <td>0.503084</td>\n",
       "      <td>0.000977</td>\n",
       "      <td>0.502464</td>\n",
       "      <td>0.002230</td>\n",
       "    </tr>\n",
       "    <tr>\n",
       "      <th>8</th>\n",
       "      <td>0.524352</td>\n",
       "      <td>0.031021</td>\n",
       "      <td>0.516467</td>\n",
       "      <td>0.018636</td>\n",
       "    </tr>\n",
       "    <tr>\n",
       "      <th>9</th>\n",
       "      <td>0.524784</td>\n",
       "      <td>0.030725</td>\n",
       "      <td>0.516982</td>\n",
       "      <td>0.018221</td>\n",
       "    </tr>\n",
       "    <tr>\n",
       "      <th>10</th>\n",
       "      <td>0.539807</td>\n",
       "      <td>0.027778</td>\n",
       "      <td>0.528045</td>\n",
       "      <td>0.016110</td>\n",
       "    </tr>\n",
       "    <tr>\n",
       "      <th>11</th>\n",
       "      <td>0.558471</td>\n",
       "      <td>0.007814</td>\n",
       "      <td>0.547359</td>\n",
       "      <td>0.011787</td>\n",
       "    </tr>\n",
       "    <tr>\n",
       "      <th>12</th>\n",
       "      <td>0.558661</td>\n",
       "      <td>0.008055</td>\n",
       "      <td>0.547277</td>\n",
       "      <td>0.011820</td>\n",
       "    </tr>\n",
       "    <tr>\n",
       "      <th>13</th>\n",
       "      <td>0.559112</td>\n",
       "      <td>0.007647</td>\n",
       "      <td>0.547324</td>\n",
       "      <td>0.011554</td>\n",
       "    </tr>\n",
       "    <tr>\n",
       "      <th>14</th>\n",
       "      <td>0.569283</td>\n",
       "      <td>0.006365</td>\n",
       "      <td>0.564184</td>\n",
       "      <td>0.015613</td>\n",
       "    </tr>\n",
       "    <tr>\n",
       "      <th>15</th>\n",
       "      <td>0.578956</td>\n",
       "      <td>0.014772</td>\n",
       "      <td>0.575586</td>\n",
       "      <td>0.002867</td>\n",
       "    </tr>\n",
       "    <tr>\n",
       "      <th>16</th>\n",
       "      <td>0.591410</td>\n",
       "      <td>0.006405</td>\n",
       "      <td>0.585333</td>\n",
       "      <td>0.009711</td>\n",
       "    </tr>\n",
       "    <tr>\n",
       "      <th>17</th>\n",
       "      <td>0.594160</td>\n",
       "      <td>0.003338</td>\n",
       "      <td>0.588918</td>\n",
       "      <td>0.009108</td>\n",
       "    </tr>\n",
       "    <tr>\n",
       "      <th>18</th>\n",
       "      <td>0.603840</td>\n",
       "      <td>0.015311</td>\n",
       "      <td>0.595636</td>\n",
       "      <td>0.004224</td>\n",
       "    </tr>\n",
       "    <tr>\n",
       "      <th>19</th>\n",
       "      <td>0.623509</td>\n",
       "      <td>0.017758</td>\n",
       "      <td>0.611568</td>\n",
       "      <td>0.013986</td>\n",
       "    </tr>\n",
       "    <tr>\n",
       "      <th>20</th>\n",
       "      <td>0.634213</td>\n",
       "      <td>0.010070</td>\n",
       "      <td>0.619288</td>\n",
       "      <td>0.013365</td>\n",
       "    </tr>\n",
       "    <tr>\n",
       "      <th>21</th>\n",
       "      <td>0.641584</td>\n",
       "      <td>0.016141</td>\n",
       "      <td>0.621382</td>\n",
       "      <td>0.011294</td>\n",
       "    </tr>\n",
       "    <tr>\n",
       "      <th>22</th>\n",
       "      <td>0.654584</td>\n",
       "      <td>0.007965</td>\n",
       "      <td>0.634884</td>\n",
       "      <td>0.006590</td>\n",
       "    </tr>\n",
       "    <tr>\n",
       "      <th>23</th>\n",
       "      <td>0.672736</td>\n",
       "      <td>0.006587</td>\n",
       "      <td>0.647646</td>\n",
       "      <td>0.009806</td>\n",
       "    </tr>\n",
       "    <tr>\n",
       "      <th>24</th>\n",
       "      <td>0.683671</td>\n",
       "      <td>0.009843</td>\n",
       "      <td>0.658688</td>\n",
       "      <td>0.008694</td>\n",
       "    </tr>\n",
       "    <tr>\n",
       "      <th>25</th>\n",
       "      <td>0.685051</td>\n",
       "      <td>0.010252</td>\n",
       "      <td>0.657933</td>\n",
       "      <td>0.006147</td>\n",
       "    </tr>\n",
       "    <tr>\n",
       "      <th>26</th>\n",
       "      <td>0.693716</td>\n",
       "      <td>0.008634</td>\n",
       "      <td>0.661636</td>\n",
       "      <td>0.002687</td>\n",
       "    </tr>\n",
       "    <tr>\n",
       "      <th>27</th>\n",
       "      <td>0.697513</td>\n",
       "      <td>0.012020</td>\n",
       "      <td>0.663051</td>\n",
       "      <td>0.005036</td>\n",
       "    </tr>\n",
       "    <tr>\n",
       "      <th>28</th>\n",
       "      <td>0.701289</td>\n",
       "      <td>0.009337</td>\n",
       "      <td>0.663760</td>\n",
       "      <td>0.006696</td>\n",
       "    </tr>\n",
       "    <tr>\n",
       "      <th>29</th>\n",
       "      <td>0.706059</td>\n",
       "      <td>0.004558</td>\n",
       "      <td>0.666032</td>\n",
       "      <td>0.008352</td>\n",
       "    </tr>\n",
       "    <tr>\n",
       "      <th>30</th>\n",
       "      <td>0.709130</td>\n",
       "      <td>0.003143</td>\n",
       "      <td>0.667745</td>\n",
       "      <td>0.009741</td>\n",
       "    </tr>\n",
       "    <tr>\n",
       "      <th>31</th>\n",
       "      <td>0.714799</td>\n",
       "      <td>0.006334</td>\n",
       "      <td>0.669690</td>\n",
       "      <td>0.010612</td>\n",
       "    </tr>\n",
       "    <tr>\n",
       "      <th>32</th>\n",
       "      <td>0.719469</td>\n",
       "      <td>0.002281</td>\n",
       "      <td>0.675056</td>\n",
       "      <td>0.012032</td>\n",
       "    </tr>\n",
       "    <tr>\n",
       "      <th>33</th>\n",
       "      <td>0.722503</td>\n",
       "      <td>0.003091</td>\n",
       "      <td>0.677619</td>\n",
       "      <td>0.010376</td>\n",
       "    </tr>\n",
       "    <tr>\n",
       "      <th>34</th>\n",
       "      <td>0.724595</td>\n",
       "      <td>0.002287</td>\n",
       "      <td>0.678190</td>\n",
       "      <td>0.010395</td>\n",
       "    </tr>\n",
       "    <tr>\n",
       "      <th>35</th>\n",
       "      <td>0.727973</td>\n",
       "      <td>0.005535</td>\n",
       "      <td>0.682064</td>\n",
       "      <td>0.011761</td>\n",
       "    </tr>\n",
       "    <tr>\n",
       "      <th>36</th>\n",
       "      <td>0.728347</td>\n",
       "      <td>0.007230</td>\n",
       "      <td>0.684411</td>\n",
       "      <td>0.012391</td>\n",
       "    </tr>\n",
       "    <tr>\n",
       "      <th>37</th>\n",
       "      <td>0.730787</td>\n",
       "      <td>0.005370</td>\n",
       "      <td>0.687597</td>\n",
       "      <td>0.013951</td>\n",
       "    </tr>\n",
       "    <tr>\n",
       "      <th>38</th>\n",
       "      <td>0.733041</td>\n",
       "      <td>0.004189</td>\n",
       "      <td>0.689635</td>\n",
       "      <td>0.014387</td>\n",
       "    </tr>\n",
       "    <tr>\n",
       "      <th>39</th>\n",
       "      <td>0.732141</td>\n",
       "      <td>0.005088</td>\n",
       "      <td>0.690367</td>\n",
       "      <td>0.014658</td>\n",
       "    </tr>\n",
       "    <tr>\n",
       "      <th>40</th>\n",
       "      <td>0.737119</td>\n",
       "      <td>0.008016</td>\n",
       "      <td>0.694423</td>\n",
       "      <td>0.015638</td>\n",
       "    </tr>\n",
       "    <tr>\n",
       "      <th>41</th>\n",
       "      <td>0.738081</td>\n",
       "      <td>0.009534</td>\n",
       "      <td>0.696131</td>\n",
       "      <td>0.017131</td>\n",
       "    </tr>\n",
       "    <tr>\n",
       "      <th>42</th>\n",
       "      <td>0.739173</td>\n",
       "      <td>0.010720</td>\n",
       "      <td>0.697280</td>\n",
       "      <td>0.016322</td>\n",
       "    </tr>\n",
       "    <tr>\n",
       "      <th>43</th>\n",
       "      <td>0.740110</td>\n",
       "      <td>0.009578</td>\n",
       "      <td>0.697504</td>\n",
       "      <td>0.015843</td>\n",
       "    </tr>\n",
       "    <tr>\n",
       "      <th>44</th>\n",
       "      <td>0.744264</td>\n",
       "      <td>0.007250</td>\n",
       "      <td>0.700520</td>\n",
       "      <td>0.014936</td>\n",
       "    </tr>\n",
       "    <tr>\n",
       "      <th>45</th>\n",
       "      <td>0.747718</td>\n",
       "      <td>0.006160</td>\n",
       "      <td>0.702939</td>\n",
       "      <td>0.012745</td>\n",
       "    </tr>\n",
       "    <tr>\n",
       "      <th>46</th>\n",
       "      <td>0.748769</td>\n",
       "      <td>0.006895</td>\n",
       "      <td>0.702784</td>\n",
       "      <td>0.013590</td>\n",
       "    </tr>\n",
       "    <tr>\n",
       "      <th>47</th>\n",
       "      <td>0.751323</td>\n",
       "      <td>0.006450</td>\n",
       "      <td>0.703217</td>\n",
       "      <td>0.014002</td>\n",
       "    </tr>\n",
       "    <tr>\n",
       "      <th>48</th>\n",
       "      <td>0.753175</td>\n",
       "      <td>0.005792</td>\n",
       "      <td>0.704912</td>\n",
       "      <td>0.014286</td>\n",
       "    </tr>\n",
       "    <tr>\n",
       "      <th>49</th>\n",
       "      <td>0.753326</td>\n",
       "      <td>0.006765</td>\n",
       "      <td>0.704328</td>\n",
       "      <td>0.014528</td>\n",
       "    </tr>\n",
       "  </tbody>\n",
       "</table>\n",
       "</div>"
      ],
      "text/plain": [
       "    train-auc-mean  train-auc-std  test-auc-mean  test-auc-std\n",
       "0         0.500000       0.000000       0.500000      0.000000\n",
       "1         0.501282       0.001143       0.500713      0.000510\n",
       "2         0.503085       0.000977       0.502464      0.002231\n",
       "3         0.503085       0.000977       0.502464      0.002231\n",
       "4         0.503084       0.000977       0.502464      0.002230\n",
       "5         0.503084       0.000977       0.502464      0.002230\n",
       "6         0.503084       0.000977       0.502464      0.002230\n",
       "7         0.503084       0.000977       0.502464      0.002230\n",
       "8         0.524352       0.031021       0.516467      0.018636\n",
       "9         0.524784       0.030725       0.516982      0.018221\n",
       "10        0.539807       0.027778       0.528045      0.016110\n",
       "11        0.558471       0.007814       0.547359      0.011787\n",
       "12        0.558661       0.008055       0.547277      0.011820\n",
       "13        0.559112       0.007647       0.547324      0.011554\n",
       "14        0.569283       0.006365       0.564184      0.015613\n",
       "15        0.578956       0.014772       0.575586      0.002867\n",
       "16        0.591410       0.006405       0.585333      0.009711\n",
       "17        0.594160       0.003338       0.588918      0.009108\n",
       "18        0.603840       0.015311       0.595636      0.004224\n",
       "19        0.623509       0.017758       0.611568      0.013986\n",
       "20        0.634213       0.010070       0.619288      0.013365\n",
       "21        0.641584       0.016141       0.621382      0.011294\n",
       "22        0.654584       0.007965       0.634884      0.006590\n",
       "23        0.672736       0.006587       0.647646      0.009806\n",
       "24        0.683671       0.009843       0.658688      0.008694\n",
       "25        0.685051       0.010252       0.657933      0.006147\n",
       "26        0.693716       0.008634       0.661636      0.002687\n",
       "27        0.697513       0.012020       0.663051      0.005036\n",
       "28        0.701289       0.009337       0.663760      0.006696\n",
       "29        0.706059       0.004558       0.666032      0.008352\n",
       "30        0.709130       0.003143       0.667745      0.009741\n",
       "31        0.714799       0.006334       0.669690      0.010612\n",
       "32        0.719469       0.002281       0.675056      0.012032\n",
       "33        0.722503       0.003091       0.677619      0.010376\n",
       "34        0.724595       0.002287       0.678190      0.010395\n",
       "35        0.727973       0.005535       0.682064      0.011761\n",
       "36        0.728347       0.007230       0.684411      0.012391\n",
       "37        0.730787       0.005370       0.687597      0.013951\n",
       "38        0.733041       0.004189       0.689635      0.014387\n",
       "39        0.732141       0.005088       0.690367      0.014658\n",
       "40        0.737119       0.008016       0.694423      0.015638\n",
       "41        0.738081       0.009534       0.696131      0.017131\n",
       "42        0.739173       0.010720       0.697280      0.016322\n",
       "43        0.740110       0.009578       0.697504      0.015843\n",
       "44        0.744264       0.007250       0.700520      0.014936\n",
       "45        0.747718       0.006160       0.702939      0.012745\n",
       "46        0.748769       0.006895       0.702784      0.013590\n",
       "47        0.751323       0.006450       0.703217      0.014002\n",
       "48        0.753175       0.005792       0.704912      0.014286\n",
       "49        0.753326       0.006765       0.704328      0.014528"
      ]
     },
     "execution_count": 39,
     "metadata": {},
     "output_type": "execute_result"
    }
   ],
   "source": [
    "\n",
    "data_dmatrix = xgb.DMatrix(X_train, y_train)\n",
    "params = {'objective':'binary:logistic','colsample_bytree': 0.3,'learning_rate': 0.1,\n",
    "                'max_depth': 5, 'alpha': 10}\n",
    "\n",
    "cv_results = xgb.cv(dtrain=data_dmatrix, params=params, nfold=3,\n",
    "                    num_boost_round=50,early_stopping_rounds=10,metrics=\"auc\", as_pandas=True, seed=123)\n",
    "\n",
    "cv_results\n"
   ]
  },
  {
   "cell_type": "markdown",
   "metadata": {},
   "source": [
    "**Conclusion**\n",
    "\n",
    "Both algorithms have similarities and dissimilarities and offer powerful features. The right choice of algorithm would depend on the data and the problem that we intend to solve."
   ]
  },
  {
   "cell_type": "markdown",
   "metadata": {},
   "source": [
    "**References**\n",
    "* https://mlexplained.com/2018/01/05/lightgbm-and-xgboost-explained/\n",
    "* Kaggle Kernels - https://www.kaggle.com/samratp/lightgbm-xgboost-catboostKaggle Kernel - https://www.kaggle.com/prashant111/tutorial-lightgbm-classifier-in-python\n",
    "* Kaggle Kernel - https://www.kaggle.com/garethjns/microsoft-lightgbm-with-parameter-tuning-0-823\n",
    "* https://machinelearningmastery.com/xgboost-for-imbalanced-classification/\n",
    "* https://xgboost.readthedocs.io\n",
    "* https://lightgbm.readthedocs.io\n",
    "* https://medium.com/@pushkarmandot/https-medium-com-pushkarmandot-what-is-lightgbm-how-to-implement-it-how-to-fine-tune-the-parameters-60347819b7fc\n",
    "* https://neptune.ai/blog/lightgbm-parameters-guide\n",
    "* https://pyligent.github.io/2019-08-20-lightGBM_XGBoost/\n",
    "* https://www.analyticsvidhya.com/blog/2016/03/complete-guide-parameter-tuning-xgboost-with-codes-python/\n",
    "* https://machinelearningmastery.com/avoid-overfitting-by-early-stopping-with-xgboost-in-python/"
   ]
  }
 ],
 "metadata": {
  "kernelspec": {
   "display_name": "Python 3",
   "language": "python",
   "name": "python3"
  },
  "language_info": {
   "codemirror_mode": {
    "name": "ipython",
    "version": 3
   },
   "file_extension": ".py",
   "mimetype": "text/x-python",
   "name": "python",
   "nbconvert_exporter": "python",
   "pygments_lexer": "ipython3",
   "version": "3.6.6"
  }
 },
 "nbformat": 4,
 "nbformat_minor": 4
}
